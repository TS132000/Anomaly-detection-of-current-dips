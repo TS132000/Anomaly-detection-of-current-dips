{
 "cells": [
  {
   "cell_type": "code",
   "execution_count": 1,
   "metadata": {},
   "outputs": [],
   "source": [
    "import numpy as np\n",
    "import pandas as pd\n",
    "from scipy import *  \n",
    "from scipy.linalg import norm, pinv  \n",
    "from matplotlib import pyplot as plt  \n",
    "import warnings\n",
    "warnings.filterwarnings(\"ignore\")"
   ]
  },
  {
   "cell_type": "code",
   "execution_count": 303,
   "metadata": {},
   "outputs": [],
   "source": [
    "# data = pd.read_excel(io=r'C:\\Users\\Serendipity\\Attention_RBF\\data.xlsx')\n",
    "# data"
   ]
  },
  {
   "cell_type": "code",
   "execution_count": 2,
   "metadata": {},
   "outputs": [],
   "source": [
    "data = pd.read_excel(io=r'C:\\Users\\Serendipity\\Attention_RBF\\dl.xlsx')"
   ]
  },
  {
   "cell_type": "code",
   "execution_count": 3,
   "metadata": {},
   "outputs": [],
   "source": [
    "# data = data.drop(columns = ['A电压','B电压','C电压','时间','视在功率','综合倍率','有功功率','无功功率','CT变比','PT变比'])\n",
    "data = data.drop(columns = ['时间','视在功率','综合倍率','有功功率','无功功率','CT变比','PT变比'])"
   ]
  },
  {
   "cell_type": "code",
   "execution_count": 4,
   "metadata": {},
   "outputs": [],
   "source": [
    "for i in range(data.shape[0]):\n",
    "    data['秒分'][i] = str(data['秒分'].values[i].strftime('%H:%M'))"
   ]
  },
  {
   "cell_type": "code",
   "execution_count": 314,
   "metadata": {},
   "outputs": [
    {
     "name": "stdout",
     "output_type": "stream",
     "text": [
      "[ 68  72  74  76 134 139 168 185 227 230]\n"
     ]
    }
   ],
   "source": [
    "uniques = np.unique(data['变压器编号'],axis=0)\n",
    "print(uniques)"
   ]
  },
  {
   "cell_type": "code",
   "execution_count": 315,
   "metadata": {},
   "outputs": [],
   "source": [
    "# transformer_1 = data.loc[data['变压器编号'] == 1].copy()\n",
    "# transformer_2 = data.loc[data['变压器编号'] == 2].copy()\n",
    "# transformer_3 = data.loc[data['变压器编号'] == 3].copy()\n",
    "# transformer_4 = data.loc[data['变压器编号'] == 4].copy()\n",
    "# transformer_5 = data.loc[data['变压器编号'] == 5].copy()\n",
    "\n",
    "# transformer_6 = data.loc[data['变压器编号'] == 6].copy()\n",
    "# transformer_7 = data.loc[data['变压器编号'] == 7].copy()\n",
    "# transformer_8 = data.loc[data['变压器编号'] == 8].copy()\n",
    "# transformer_9 = data.loc[data['变压器编号'] == 9].copy()\n",
    "# transformer_10 = data.loc[data['变压器编号'] == 10].copy()\n",
    "\n",
    "#new\n",
    "transformer_68 = data.loc[data['变压器编号'] == 68].copy()\n",
    "transformer_72 = data.loc[data['变压器编号'] == 72].copy()\n",
    "transformer_74 = data.loc[data['变压器编号'] == 74].copy()\n",
    "transformer_76 = data.loc[data['变压器编号'] == 76].copy()\n",
    "transformer_134 = data.loc[data['变压器编号'] == 134].copy()\n",
    "transformer_139 = data.loc[data['变压器编号'] == 139].copy()\n",
    "transformer_168 = data.loc[data['变压器编号'] == 168].copy()\n",
    "transformer_185 = data.loc[data['变压器编号'] == 185].copy()\n",
    "transformer_227 = data.loc[data['变压器编号'] == 227].copy()\n",
    "transformer_230 = data.loc[data['变压器编号'] == 230].copy()"
   ]
  },
  {
   "cell_type": "code",
   "execution_count": 316,
   "metadata": {},
   "outputs": [],
   "source": [
    "# 负荷值的夹角特征θ_i\n",
    "'''\n",
    "负荷值的夹角特征\n",
    "'''\n",
    "def load_theta(transformer):\n",
    "    transformer['负荷A'] = transformer['A电流']*transformer['A电压']\n",
    "    transformer['负荷B'] = transformer['B电流']*transformer['B电压']\n",
    "    transformer['负荷C'] = transformer['C电流']*transformer['C电压']\n",
    "    \n",
    "    transformer['负荷A_dload'] = (transformer['负荷A'] - transformer['负荷A'].shift(-1,fill_value=0))\n",
    "    transformer['负荷B_dload'] = (transformer['负荷B'] - transformer['负荷B'].shift(-1,fill_value=0))\n",
    "    transformer['负荷C_dload'] = (transformer['负荷C'] - transformer['负荷C'].shift(-1,fill_value=0))\n",
    "    \n",
    "    transformer['θ_A'] =  transformer['负荷A_dload']\n",
    "    transformer['θ_B'] =  transformer['负荷B_dload']\n",
    "    transformer['θ_C'] =  transformer['负荷C_dload']\n",
    "    \n",
    "    for i in range(transformer.shape[0]):\n",
    "        transformer['θ_A'][i] =  math.atan2(transformer['负荷A_dload'][i] , transformer['负荷A'].mean())\n",
    "        transformer['θ_B'][i] =  math.atan2(transformer['负荷B_dload'][i] , transformer['负荷B'].mean())\n",
    "        transformer['θ_C'][i] =  math.atan2(transformer['负荷C_dload'][i] , transformer['负荷C'].mean())\n",
    "    transformer = transformer.drop(columns = ['负荷A','负荷B','负荷C','负荷A_dload','负荷B_dload','负荷C_dload'])\n",
    "    return transformer\n",
    "# 电流骤降幅值Isa_i \n",
    "'''\n",
    "电流骤降幅值ISAi表示第i时刻电流变化值相比于日平均电流的骤降水平\n",
    "'''\n",
    "def Isa(transformer):\n",
    "    #transformer = transformer.loc[data['年月日'] == '2021-01-01'].copy()\n",
    "    #transformer = transformer.sort_values(by ='秒分').set_index('年月日')\n",
    "    transformer['Isa_A'] = (transformer['A电流'] - transformer['A电流'].shift(-1,fill_value=0))*100/transformer['A电流'].mean()\n",
    "    transformer['Isa_B'] = (transformer['B电流'] - transformer['B电流'].shift(-1,fill_value=0))*100/transformer['B电流'].mean()\n",
    "    transformer['Isa_C'] = (transformer['C电流'] - transformer['C电流'].shift(-1,fill_value=0))*100/transformer['C电流'].mean()\n",
    "    return transformer\n",
    "\n",
    "# 三相电流不平衡度\n",
    "'''\n",
    "三相电流不平衡度εi反映了三相电流幅值的偏差程度\n",
    "'''\n",
    "def Unbalance(transformer):\n",
    "    transformer['Iave'] = transformer[['A电流','B电流','C电流']].mean(axis = 1)\n",
    "    transformer['Ia - Iave'] = transformer.apply(lambda x: x['A电流'] - x['Iave'], axis=1).abs()\n",
    "    transformer['Ib - Iave'] = transformer.apply(lambda x: x['B电流'] - x['Iave'], axis=1).abs()\n",
    "    transformer['Ic - Iave'] = transformer.apply(lambda x: x['C电流'] - x['Iave'], axis=1).abs()\n",
    "    transformer['三相电流不平衡度'] = transformer.apply(lambda x: max(x['Ib - Iave'],x['Ia - Iave'],x['Ic - Iave'])/x['Iave'], axis=1)\n",
    "    transformer = transformer.drop(columns = ['Iave','Ia - Iave','Ib - Iave','Ic - Iave'])\n",
    "    return transformer\n",
    "\n",
    "# 电流跌落深度\n",
    "'''\n",
    "电流跌落深度ISDi表示第i−1时刻与第i时刻电流有效值差值与第i−1时刻电流有效值之比，\n",
    "反映了第i时刻电流较上一时刻电流的跌落程度，当ISDi为正时，电流跌落；当ISDi为负时，电流增大。\n",
    "'''\n",
    "def ISD(transformer):\n",
    "    transformer['Isd_A'] = (transformer['A电流'] - transformer['A电流'].shift(-1,fill_value=0))*100/transformer['A电流']\n",
    "    transformer['Isd_B'] = (transformer['B电流'] - transformer['B电流'].shift(-1,fill_value=0))*100/transformer['B电流']\n",
    "    transformer['Isd_C'] = (transformer['C电流'] - transformer['C电流'].shift(-1,fill_value=0))*100/transformer['C电流']\n",
    "    return transformer\n",
    "\n",
    "#电流幅值占比\n",
    "'''\n",
    "电流幅值占比IARi表示第i时刻电\n",
    "'''\n",
    "def IAR(transformer):\n",
    "    transformer['Iar_A'] = transformer['A电流']*100/transformer['额定容量']\n",
    "    transformer['Iar_B'] = transformer['B电流']*100/transformer['额定容量']\n",
    "    transformer['Iar_C'] = transformer['C电流']*100/transformer['额定容量']\n",
    "    return transformer\n",
    "\n",
    "# 与前3个时刻的峰谷差\n",
    "'''\n",
    "通过数据分析，电流发生连续骤降时通常在3个时隙内完成，故在此选取第i时刻与前3个时刻电流有效值差值的最大值与额定电流之比为峰谷差pvdi\n",
    "'''\n",
    "def PVD(transformer):\n",
    "    transformer['Pvd_A_1'] = (transformer['A电流'] - transformer['A电流'].shift(-1,fill_value=0)).abs()\n",
    "    transformer['Pvd_B_1'] = (transformer['B电流'] - transformer['B电流'].shift(-1,fill_value=0)).abs()\n",
    "    transformer['Pvd_C_1'] = (transformer['C电流'] - transformer['C电流'].shift(-1,fill_value=0)).abs()\n",
    "\n",
    "    transformer['Pvd_A_2'] = (transformer['A电流'] - transformer['A电流'].shift(-2,fill_value=0)).abs()\n",
    "    transformer['Pvd_B_2'] = (transformer['B电流'] - transformer['B电流'].shift(-2,fill_value=0)).abs()\n",
    "    transformer['Pvd_C_2'] = (transformer['C电流'] - transformer['C电流'].shift(-2,fill_value=0)).abs()\n",
    "\n",
    "    transformer['Pvd_A_3'] = (transformer['A电流'] - transformer['A电流'].shift(-3,fill_value=0)).abs()\n",
    "    transformer['Pvd_B_3'] = (transformer['B电流'] - transformer['B电流'].shift(-3,fill_value=0)).abs()\n",
    "    transformer['Pvd_C_3'] = (transformer['C电流'] - transformer['C电流'].shift(-3,fill_value=0)).abs()\n",
    "\n",
    "    transformer['Pvd_A'] = transformer.apply(lambda x: max(x['Pvd_A_1'],x['Pvd_A_2'],x['Pvd_A_3'])/x['额定容量'], axis=1)\n",
    "    transformer['Pvd_B'] = transformer.apply(lambda x: max(x['Pvd_B_1'],x['Pvd_B_2'],x['Pvd_B_3'])/x['额定容量'], axis=1)\n",
    "    transformer['Pvd_C'] = transformer.apply(lambda x: max(x['Pvd_C_1'],x['Pvd_C_2'],x['Pvd_C_3'])/x['额定容量'], axis=1)\n",
    "    \n",
    "    transformer = transformer.drop(columns = ['Pvd_A_1','Pvd_A_2','Pvd_A_3','Pvd_B_1','Pvd_B_2','Pvd_B_3','Pvd_C_1','Pvd_C_2','Pvd_C_3'])\n",
    "    \n",
    "    return transformer\n",
    "\n",
    "# 负载率差值。\n",
    "'''\n",
    "负载率差值Δηi表示第i时刻与第i−1时刻的负载率差值，反映了负载率的状态变化\n",
    "'''\n",
    "def load_diff(transformer):\n",
    "    transformer['负载率差值'] = transformer['负载率'].shift(-1,fill_value=0) - transformer['负载率']\n",
    "    return transformer"
   ]
  },
  {
   "cell_type": "code",
   "execution_count": 358,
   "metadata": {},
   "outputs": [],
   "source": [
    "trans = transformer_230"
   ]
  },
  {
   "cell_type": "code",
   "execution_count": 359,
   "metadata": {},
   "outputs": [
    {
     "name": "stdout",
     "output_type": "stream",
     "text": [
      "2022-04-25\n",
      "2022-04-26\n",
      "2022-04-27\n",
      "2022-04-28\n",
      "2022-04-29\n",
      "2022-04-30\n",
      "2022-05-01\n",
      "2022-05-02\n",
      "2022-05-03\n",
      "2022-05-04\n",
      "2022-05-05\n",
      "2022-05-06\n",
      "2022-05-07\n",
      "2022-05-08\n",
      "2022-05-09\n",
      "2022-05-10\n",
      "2022-05-11\n",
      "2022-05-12\n",
      "2022-05-13\n",
      "2022-05-14\n",
      "2022-05-15\n",
      "2022-05-16\n",
      "2022-05-17\n",
      "2022-05-18\n",
      "2022-05-19\n",
      "2022-05-20\n",
      "2022-05-21\n",
      "2022-05-22\n",
      "2022-05-23\n",
      "2022-05-24\n",
      "2022-05-25\n",
      "2022-05-26\n",
      "2022-05-27\n",
      "2022-05-30\n",
      "2022-05-31\n",
      "2022-06-01\n"
     ]
    }
   ],
   "source": [
    "import datetime\n",
    "\n",
    "# start = '2021-06-30'\n",
    "# end = '2021-07-19'\n",
    "\n",
    "start = '2022-04-24'\n",
    "end = '2022-06-01'\n",
    "\n",
    "datestart = datetime.datetime.strptime(start, '%Y-%m-%d')\n",
    "dateend = datetime.datetime.strptime(end, '%Y-%m-%d')\n",
    "\n",
    "transformer_to_excel = pd.DataFrame()\n",
    "\n",
    "while datestart < dateend:\n",
    "    datestart += datetime.timedelta(days=1)\n",
    "    \n",
    "    transformer_day = trans.loc[trans['年月日'] == datestart.strftime('%Y-%m-%d')]\n",
    "    transformer_day = transformer_day.sort_values(by ='秒分')\n",
    "    \n",
    "    \n",
    "    while(transformer_day.shape[0]==0):\n",
    "        datestart += datetime.timedelta(days=1)\n",
    "        transformer_day = trans.loc[trans['年月日'] == datestart.strftime('%Y-%m-%d')]\n",
    "        transformer_day = transformer_day.sort_values(by ='秒分').set_index('年月日')\n",
    "        #print(datestart)\n",
    "\n",
    "        #transformer_day = transformer_day.drop(index = [datestart.strftime('%Y-%m-%d')])\n",
    "    \n",
    "    transformer_day = load_theta(transformer_day.reset_index())\n",
    "    transformer_day = Isa(transformer_day)\n",
    "    transformer_day = Unbalance(transformer_day)\n",
    "    transformer_day = ISD(transformer_day)\n",
    "    transformer_day = IAR(transformer_day)\n",
    "    transformer_day = PVD(transformer_day)\n",
    "    transformer_day = load_diff(transformer_day)\n",
    "\n",
    "    \n",
    "    df = transformer_day.drop(columns = ['序号','额定容量','A电流','B电流','C电流','变压器编号'])\n",
    "    \n",
    "    \n",
    "    transformer_to_excel = transformer_to_excel.append(df)\n",
    "\n",
    "    print(datestart.strftime('%Y-%m-%d'))\n",
    "#     print(transformer_day)\n",
    "\n",
    "    #transformer_day.to_excel(datestart.strftime('%Y-%m-%d')+'.xls')\n",
    "    #print(datestart.strftime('%Y-%m-%d'))\n"
   ]
  },
  {
   "cell_type": "code",
   "execution_count": 360,
   "metadata": {},
   "outputs": [],
   "source": [
    "transformer_to_excel = transformer_to_excel.reset_index()\n",
    "transformer_to_excel = transformer_to_excel.drop(columns = ['index'])"
   ]
  },
  {
   "cell_type": "code",
   "execution_count": 361,
   "metadata": {},
   "outputs": [],
   "source": [
    "feature = pd.DataFrame(transformer_to_excel)\n",
    "feature.to_excel('tran230_feature.xlsx')"
   ]
  },
  {
   "cell_type": "markdown",
   "metadata": {},
   "source": [
    "# label"
   ]
  },
  {
   "cell_type": "code",
   "execution_count": 426,
   "metadata": {},
   "outputs": [],
   "source": [
    "trans1_feature = pd.read_excel(io=r'C:\\Users\\Serendipity\\Attention_RBF\\tran1_feature.xlsx')\n",
    "trans2_feature = pd.read_excel(io=r'C:\\Users\\Serendipity\\Attention_RBF\\tran2_feature.xlsx')\n",
    "trans3_feature = pd.read_excel(io=r'C:\\Users\\Serendipity\\Attention_RBF\\tran3_feature.xlsx')\n",
    "trans4_feature = pd.read_excel(io=r'C:\\Users\\Serendipity\\Attention_RBF\\tran4_feature.xlsx')\n",
    "trans5_feature = pd.read_excel(io=r'C:\\Users\\Serendipity\\Attention_RBF\\tran5_feature.xlsx')\n",
    "\n",
    "trans6_feature = pd.read_excel(io=r'C:\\Users\\Serendipity\\Attention_RBF\\tran6_feature.xlsx')\n",
    "trans7_feature = pd.read_excel(io=r'C:\\Users\\Serendipity\\Attention_RBF\\tran7_feature.xlsx')\n",
    "trans8_feature = pd.read_excel(io=r'C:\\Users\\Serendipity\\Attention_RBF\\tran8_feature.xlsx')\n",
    "trans9_feature = pd.read_excel(io=r'C:\\Users\\Serendipity\\Attention_RBF\\tran9_feature.xlsx')\n",
    "trans10_feature = pd.read_excel(io=r'C:\\Users\\Serendipity\\Attention_RBF\\tran10_feature.xlsx')\n",
    "\n",
    "trans68_feature = pd.read_excel(io=r'C:\\Users\\Serendipity\\Attention_RBF\\tran68_feature.xlsx')\n",
    "trans72_feature = pd.read_excel(io=r'C:\\Users\\Serendipity\\Attention_RBF\\tran72_feature.xlsx')\n",
    "trans74_feature = pd.read_excel(io=r'C:\\Users\\Serendipity\\Attention_RBF\\tran74_feature.xlsx')\n",
    "trans76_feature = pd.read_excel(io=r'C:\\Users\\Serendipity\\Attention_RBF\\tran76_feature.xlsx')\n",
    "trans134_feature = pd.read_excel(io=r'C:\\Users\\Serendipity\\Attention_RBF\\tran134_feature.xlsx')\n",
    "\n",
    "trans139_feature = pd.read_excel(io=r'C:\\Users\\Serendipity\\Attention_RBF\\tran139_feature.xlsx')\n",
    "trans168_feature = pd.read_excel(io=r'C:\\Users\\Serendipity\\Attention_RBF\\tran168_feature.xlsx')\n",
    "trans185_feature = pd.read_excel(io=r'C:\\Users\\Serendipity\\Attention_RBF\\tran185_feature.xlsx')\n",
    "trans227_feature = pd.read_excel(io=r'C:\\Users\\Serendipity\\Attention_RBF\\tran227_feature.xlsx')\n",
    "trans230_feature = pd.read_excel(io=r'C:\\Users\\Serendipity\\Attention_RBF\\tran230_feature.xlsx')"
   ]
  },
  {
   "cell_type": "code",
   "execution_count": 427,
   "metadata": {},
   "outputs": [],
   "source": [
    "trans1_feature.drop(trans1_feature.tail(1).index,inplace=True)\n",
    "trans2_feature.drop(trans2_feature.tail(1).index,inplace=True)\n",
    "trans3_feature.drop(trans3_feature.tail(1).index,inplace=True)\n",
    "trans4_feature.drop(trans4_feature.tail(1).index,inplace=True)\n",
    "trans5_feature.drop(trans5_feature.tail(1).index,inplace=True)\n",
    "trans6_feature.drop(trans6_feature.tail(1).index,inplace=True)\n",
    "trans7_feature.drop(trans7_feature.tail(1).index,inplace=True)\n",
    "trans8_feature.drop(trans8_feature.tail(1).index,inplace=True)\n",
    "trans9_feature.drop(trans9_feature.tail(1).index,inplace=True)\n",
    "trans10_feature.drop(trans10_feature.tail(1).index,inplace=True)\n",
    "\n",
    "trans68_feature.drop(trans68_feature.tail(1).index,inplace=True)\n",
    "trans72_feature.drop(trans72_feature.tail(1).index,inplace=True)\n",
    "trans74_feature.drop(trans74_feature.tail(1).index,inplace=True)\n",
    "trans76_feature.drop(trans76_feature.tail(1).index,inplace=True)\n",
    "trans134_feature.drop(trans134_feature.tail(1).index,inplace=True)\n",
    "trans139_feature.drop(trans139_feature.tail(1).index,inplace=True)\n",
    "trans168_feature.drop(trans168_feature.tail(1).index,inplace=True)\n",
    "trans185_feature.drop(trans185_feature.tail(1).index,inplace=True)\n",
    "trans227_feature.drop(trans227_feature.tail(1).index,inplace=True)\n",
    "trans230_feature.drop(trans230_feature.tail(1).index,inplace=True) "
   ]
  },
  {
   "cell_type": "code",
   "execution_count": 428,
   "metadata": {},
   "outputs": [],
   "source": [
    "trans1_feature['label'] = pd.DataFrame([0]*trans1_feature.shape[0])\n",
    "trans2_feature['label'] = pd.DataFrame([0]*trans2_feature.shape[0])\n",
    "trans3_feature['label'] = pd.DataFrame([0]*trans3_feature.shape[0])\n",
    "trans4_feature['label'] = pd.DataFrame([0]*trans4_feature.shape[0])\n",
    "trans5_feature['label'] = pd.DataFrame([0]*trans5_feature.shape[0])\n",
    "trans6_feature['label'] = pd.DataFrame([0]*trans6_feature.shape[0])\n",
    "trans7_feature['label'] = pd.DataFrame([0]*trans7_feature.shape[0])\n",
    "trans8_feature['label'] = pd.DataFrame([0]*trans8_feature.shape[0])\n",
    "trans9_feature['label'] = pd.DataFrame([0]*trans9_feature.shape[0])\n",
    "trans10_feature['label'] = pd.DataFrame([0]*trans10_feature.shape[0])\n",
    "\n",
    "trans68_feature['label'] = pd.DataFrame([0]*trans68_feature.shape[0])\n",
    "trans72_feature['label'] = pd.DataFrame([0]*trans72_feature.shape[0])\n",
    "trans74_feature['label'] = pd.DataFrame([0]*trans74_feature.shape[0])\n",
    "trans76_feature['label'] = pd.DataFrame([0]*trans76_feature.shape[0])\n",
    "trans134_feature['label'] = pd.DataFrame([0]*trans134_feature.shape[0])\n",
    "trans139_feature['label'] = pd.DataFrame([0]*trans139_feature.shape[0])\n",
    "trans168_feature['label'] = pd.DataFrame([0]*trans168_feature.shape[0])\n",
    "trans185_feature['label'] = pd.DataFrame([0]*trans185_feature.shape[0])\n",
    "trans227_feature['label'] = pd.DataFrame([0]*trans227_feature.shape[0])\n",
    "trans230_feature['label'] = pd.DataFrame([0]*trans230_feature.shape[0])"
   ]
  },
  {
   "cell_type": "code",
   "execution_count": 431,
   "metadata": {},
   "outputs": [],
   "source": [
    "trans1_feature_A = trans1_feature[['年月日','秒分','负载率','Isa_A','三相电流不平衡度','Isd_A','Iar_A','Pvd_A','负载率差值','label','θ_A']]\n",
    "trans1_feature_B = trans1_feature[['年月日','秒分','负载率','Isa_B','三相电流不平衡度','Isd_B','Iar_B','Pvd_B','负载率差值','label','θ_B']]\n",
    "trans1_feature_C = trans1_feature[['年月日','秒分','负载率','Isa_C','三相电流不平衡度','Isd_C','Iar_C','Pvd_C','负载率差值','label','θ_C']]"
   ]
  },
  {
   "cell_type": "code",
   "execution_count": 432,
   "metadata": {},
   "outputs": [],
   "source": [
    "trans2_feature_A = trans2_feature[['年月日','秒分','负载率','Isa_A','三相电流不平衡度','Isd_A','Iar_A','Pvd_A','负载率差值','label','θ_A']]\n",
    "trans2_feature_B = trans2_feature[['年月日','秒分','负载率','Isa_B','三相电流不平衡度','Isd_B','Iar_B','Pvd_B','负载率差值','label','θ_B']]\n",
    "trans2_feature_C = trans2_feature[['年月日','秒分','负载率','Isa_C','三相电流不平衡度','Isd_C','Iar_C','Pvd_C','负载率差值','label','θ_C']]"
   ]
  },
  {
   "cell_type": "code",
   "execution_count": 433,
   "metadata": {},
   "outputs": [],
   "source": [
    "trans3_feature_A = trans3_feature[['年月日','秒分','负载率','Isa_A','三相电流不平衡度','Isd_A','Iar_A','Pvd_A','负载率差值','label','θ_A']]\n",
    "trans3_feature_B = trans3_feature[['年月日','秒分','负载率','Isa_B','三相电流不平衡度','Isd_B','Iar_B','Pvd_B','负载率差值','label','θ_B']]\n",
    "trans3_feature_C = trans3_feature[['年月日','秒分','负载率','Isa_C','三相电流不平衡度','Isd_C','Iar_C','Pvd_C','负载率差值','label','θ_C']]"
   ]
  },
  {
   "cell_type": "code",
   "execution_count": 434,
   "metadata": {},
   "outputs": [],
   "source": [
    "trans4_feature_A = trans4_feature[['年月日','秒分','负载率','Isa_A','三相电流不平衡度','Isd_A','Iar_A','Pvd_A','负载率差值','label','θ_A']]\n",
    "trans4_feature_B = trans4_feature[['年月日','秒分','负载率','Isa_B','三相电流不平衡度','Isd_B','Iar_B','Pvd_B','负载率差值','label','θ_B']]\n",
    "trans4_feature_C = trans4_feature[['年月日','秒分','负载率','Isa_C','三相电流不平衡度','Isd_C','Iar_C','Pvd_C','负载率差值','label','θ_C']]"
   ]
  },
  {
   "cell_type": "code",
   "execution_count": 435,
   "metadata": {},
   "outputs": [],
   "source": [
    "trans5_feature_A = trans5_feature[['年月日','秒分','负载率','Isa_A','三相电流不平衡度','Isd_A','Iar_A','Pvd_A','负载率差值','label','θ_A']]\n",
    "trans5_feature_B = trans5_feature[['年月日','秒分','负载率','Isa_B','三相电流不平衡度','Isd_B','Iar_B','Pvd_B','负载率差值','label','θ_B']]\n",
    "trans5_feature_C = trans5_feature[['年月日','秒分','负载率','Isa_C','三相电流不平衡度','Isd_C','Iar_C','Pvd_C','负载率差值','label','θ_C']]"
   ]
  },
  {
   "cell_type": "code",
   "execution_count": 436,
   "metadata": {},
   "outputs": [],
   "source": [
    "trans6_feature_A = trans6_feature[['年月日','秒分','负载率','Isa_A','三相电流不平衡度','Isd_A','Iar_A','Pvd_A','负载率差值','label','θ_A']]\n",
    "trans6_feature_B = trans6_feature[['年月日','秒分','负载率','Isa_B','三相电流不平衡度','Isd_B','Iar_B','Pvd_B','负载率差值','label','θ_B']]\n",
    "trans6_feature_C = trans6_feature[['年月日','秒分','负载率','Isa_C','三相电流不平衡度','Isd_C','Iar_C','Pvd_C','负载率差值','label','θ_C']]"
   ]
  },
  {
   "cell_type": "code",
   "execution_count": 437,
   "metadata": {},
   "outputs": [],
   "source": [
    "trans7_feature_A = trans7_feature[['年月日','秒分','负载率','Isa_A','三相电流不平衡度','Isd_A','Iar_A','Pvd_A','负载率差值','label','θ_A']]\n",
    "trans7_feature_B = trans7_feature[['年月日','秒分','负载率','Isa_B','三相电流不平衡度','Isd_B','Iar_B','Pvd_B','负载率差值','label','θ_B']]\n",
    "trans7_feature_C = trans7_feature[['年月日','秒分','负载率','Isa_C','三相电流不平衡度','Isd_C','Iar_C','Pvd_C','负载率差值','label','θ_C']]"
   ]
  },
  {
   "cell_type": "code",
   "execution_count": 438,
   "metadata": {},
   "outputs": [],
   "source": [
    "trans8_feature_A = trans8_feature[['年月日','秒分','负载率','Isa_A','三相电流不平衡度','Isd_A','Iar_A','Pvd_A','负载率差值','label','θ_A']]\n",
    "trans8_feature_B = trans8_feature[['年月日','秒分','负载率','Isa_B','三相电流不平衡度','Isd_B','Iar_B','Pvd_B','负载率差值','label','θ_B']]\n",
    "trans8_feature_C = trans8_feature[['年月日','秒分','负载率','Isa_C','三相电流不平衡度','Isd_C','Iar_C','Pvd_C','负载率差值','label','θ_C']]"
   ]
  },
  {
   "cell_type": "code",
   "execution_count": 439,
   "metadata": {},
   "outputs": [],
   "source": [
    "trans9_feature_A = trans9_feature[['年月日','秒分','负载率','Isa_A','三相电流不平衡度','Isd_A','Iar_A','Pvd_A','负载率差值','label','θ_A']]\n",
    "trans9_feature_B = trans9_feature[['年月日','秒分','负载率','Isa_B','三相电流不平衡度','Isd_B','Iar_B','Pvd_B','负载率差值','label','θ_B']]\n",
    "trans9_feature_C = trans9_feature[['年月日','秒分','负载率','Isa_C','三相电流不平衡度','Isd_C','Iar_C','Pvd_C','负载率差值','label','θ_C']]"
   ]
  },
  {
   "cell_type": "code",
   "execution_count": 440,
   "metadata": {},
   "outputs": [],
   "source": [
    "trans10_feature_A = trans10_feature[['年月日','秒分','负载率','Isa_A','三相电流不平衡度','Isd_A','Iar_A','Pvd_A','负载率差值','label','θ_A']]\n",
    "trans10_feature_B = trans10_feature[['年月日','秒分','负载率','Isa_B','三相电流不平衡度','Isd_B','Iar_B','Pvd_B','负载率差值','label','θ_B']]\n",
    "trans10_feature_C = trans10_feature[['年月日','秒分','负载率','Isa_C','三相电流不平衡度','Isd_C','Iar_C','Pvd_C','负载率差值','label','θ_C']]"
   ]
  },
  {
   "cell_type": "code",
   "execution_count": 441,
   "metadata": {},
   "outputs": [],
   "source": [
    "trans68_feature_A = trans68_feature[['年月日','秒分','负载率','Isa_A','三相电流不平衡度','Isd_A','Iar_A','Pvd_A','负载率差值','label','θ_A']]\n",
    "trans68_feature_B = trans68_feature[['年月日','秒分','负载率','Isa_B','三相电流不平衡度','Isd_B','Iar_B','Pvd_B','负载率差值','label','θ_B']]\n",
    "trans68_feature_C = trans68_feature[['年月日','秒分','负载率','Isa_C','三相电流不平衡度','Isd_C','Iar_C','Pvd_C','负载率差值','label','θ_C']]"
   ]
  },
  {
   "cell_type": "code",
   "execution_count": 442,
   "metadata": {},
   "outputs": [],
   "source": [
    "trans72_feature_A = trans72_feature[['年月日','秒分','负载率','Isa_A','三相电流不平衡度','Isd_A','Iar_A','Pvd_A','负载率差值','label','θ_A']]\n",
    "trans72_feature_B = trans72_feature[['年月日','秒分','负载率','Isa_B','三相电流不平衡度','Isd_B','Iar_B','Pvd_B','负载率差值','label','θ_B']]\n",
    "trans72_feature_C = trans72_feature[['年月日','秒分','负载率','Isa_C','三相电流不平衡度','Isd_C','Iar_C','Pvd_C','负载率差值','label','θ_C']]"
   ]
  },
  {
   "cell_type": "code",
   "execution_count": 443,
   "metadata": {},
   "outputs": [],
   "source": [
    "trans74_feature_A = trans74_feature[['年月日','秒分','负载率','Isa_A','三相电流不平衡度','Isd_A','Iar_A','Pvd_A','负载率差值','label','θ_A']]\n",
    "trans74_feature_B = trans74_feature[['年月日','秒分','负载率','Isa_B','三相电流不平衡度','Isd_B','Iar_B','Pvd_B','负载率差值','label','θ_B']]\n",
    "trans74_feature_C = trans74_feature[['年月日','秒分','负载率','Isa_C','三相电流不平衡度','Isd_C','Iar_C','Pvd_C','负载率差值','label','θ_C']]"
   ]
  },
  {
   "cell_type": "code",
   "execution_count": 444,
   "metadata": {},
   "outputs": [],
   "source": [
    "trans76_feature_A = trans76_feature[['年月日','秒分','负载率','Isa_A','三相电流不平衡度','Isd_A','Iar_A','Pvd_A','负载率差值','label','θ_A']]\n",
    "trans76_feature_B = trans76_feature[['年月日','秒分','负载率','Isa_B','三相电流不平衡度','Isd_B','Iar_B','Pvd_B','负载率差值','label','θ_B']]\n",
    "trans76_feature_C = trans76_feature[['年月日','秒分','负载率','Isa_C','三相电流不平衡度','Isd_C','Iar_C','Pvd_C','负载率差值','label','θ_C']]"
   ]
  },
  {
   "cell_type": "code",
   "execution_count": 445,
   "metadata": {},
   "outputs": [],
   "source": [
    "trans134_feature_A = trans134_feature[['年月日','秒分','负载率','Isa_A','三相电流不平衡度','Isd_A','Iar_A','Pvd_A','负载率差值','label','θ_A']]\n",
    "trans134_feature_B = trans134_feature[['年月日','秒分','负载率','Isa_B','三相电流不平衡度','Isd_B','Iar_B','Pvd_B','负载率差值','label','θ_B']]\n",
    "trans134_feature_C = trans134_feature[['年月日','秒分','负载率','Isa_C','三相电流不平衡度','Isd_C','Iar_C','Pvd_C','负载率差值','label','θ_C']]"
   ]
  },
  {
   "cell_type": "code",
   "execution_count": 446,
   "metadata": {},
   "outputs": [],
   "source": [
    "trans139_feature_A = trans139_feature[['年月日','秒分','负载率','Isa_A','三相电流不平衡度','Isd_A','Iar_A','Pvd_A','负载率差值','label','θ_A']]\n",
    "trans139_feature_B = trans139_feature[['年月日','秒分','负载率','Isa_B','三相电流不平衡度','Isd_B','Iar_B','Pvd_B','负载率差值','label','θ_B']]\n",
    "trans139_feature_C = trans139_feature[['年月日','秒分','负载率','Isa_C','三相电流不平衡度','Isd_C','Iar_C','Pvd_C','负载率差值','label','θ_C']]"
   ]
  },
  {
   "cell_type": "code",
   "execution_count": 447,
   "metadata": {},
   "outputs": [],
   "source": [
    "trans168_feature_A = trans168_feature[['年月日','秒分','负载率','Isa_A','三相电流不平衡度','Isd_A','Iar_A','Pvd_A','负载率差值','label','θ_A']]\n",
    "trans168_feature_B = trans168_feature[['年月日','秒分','负载率','Isa_B','三相电流不平衡度','Isd_B','Iar_B','Pvd_B','负载率差值','label','θ_B']]\n",
    "trans168_feature_C = trans168_feature[['年月日','秒分','负载率','Isa_C','三相电流不平衡度','Isd_C','Iar_C','Pvd_C','负载率差值','label','θ_C']]"
   ]
  },
  {
   "cell_type": "code",
   "execution_count": 448,
   "metadata": {},
   "outputs": [],
   "source": [
    "trans185_feature_A = trans185_feature[['年月日','秒分','负载率','Isa_A','三相电流不平衡度','Isd_A','Iar_A','Pvd_A','负载率差值','label','θ_A']]\n",
    "trans185_feature_B = trans185_feature[['年月日','秒分','负载率','Isa_B','三相电流不平衡度','Isd_B','Iar_B','Pvd_B','负载率差值','label','θ_B']]\n",
    "trans185_feature_C = trans185_feature[['年月日','秒分','负载率','Isa_C','三相电流不平衡度','Isd_C','Iar_C','Pvd_C','负载率差值','label','θ_C']]"
   ]
  },
  {
   "cell_type": "code",
   "execution_count": 449,
   "metadata": {},
   "outputs": [],
   "source": [
    "trans227_feature_A = trans227_feature[['年月日','秒分','负载率','Isa_A','三相电流不平衡度','Isd_A','Iar_A','Pvd_A','负载率差值','label','θ_A']]\n",
    "trans227_feature_B = trans227_feature[['年月日','秒分','负载率','Isa_B','三相电流不平衡度','Isd_B','Iar_B','Pvd_B','负载率差值','label','θ_B']]\n",
    "trans227_feature_C = trans227_feature[['年月日','秒分','负载率','Isa_C','三相电流不平衡度','Isd_C','Iar_C','Pvd_C','负载率差值','label','θ_C']]"
   ]
  },
  {
   "cell_type": "code",
   "execution_count": 450,
   "metadata": {},
   "outputs": [],
   "source": [
    "trans230_feature_A = trans230_feature[['年月日','秒分','负载率','Isa_A','三相电流不平衡度','Isd_A','Iar_A','Pvd_A','负载率差值','label','θ_A']]\n",
    "trans230_feature_B = trans230_feature[['年月日','秒分','负载率','Isa_B','三相电流不平衡度','Isd_B','Iar_B','Pvd_B','负载率差值','label','θ_B']]\n",
    "trans230_feature_C = trans230_feature[['年月日','秒分','负载率','Isa_C','三相电流不平衡度','Isd_C','Iar_C','Pvd_C','负载率差值','label','θ_C']]"
   ]
  },
  {
   "cell_type": "code",
   "execution_count": 464,
   "metadata": {},
   "outputs": [],
   "source": [
    "#label_data = pd.read_excel(io=r'C:\\Users\\Serendipity\\Attention_RBF\\data.xlsx', sheet_name='sheet2', header=0)\n",
    "label_data =  pd.read_excel(io=r'C:\\Users\\Serendipity\\Attention_RBF\\骤降补充.xlsx')"
   ]
  },
  {
   "cell_type": "code",
   "execution_count": 465,
   "metadata": {},
   "outputs": [],
   "source": [
    "for i in range(label_data.shape[0]):\n",
    "    label_data['骤降时分'][i] = str(label_data['骤降时分'].values[i].strftime('%H:%M'))"
   ]
  },
  {
   "cell_type": "code",
   "execution_count": 466,
   "metadata": {},
   "outputs": [
    {
     "data": {
      "text/html": [
       "<div>\n",
       "<style scoped>\n",
       "    .dataframe tbody tr th:only-of-type {\n",
       "        vertical-align: middle;\n",
       "    }\n",
       "\n",
       "    .dataframe tbody tr th {\n",
       "        vertical-align: top;\n",
       "    }\n",
       "\n",
       "    .dataframe thead th {\n",
       "        text-align: right;\n",
       "    }\n",
       "</style>\n",
       "<table border=\"1\" class=\"dataframe\">\n",
       "  <thead>\n",
       "    <tr style=\"text-align: right;\">\n",
       "      <th></th>\n",
       "      <th>骤降时间</th>\n",
       "      <th>骤降日期</th>\n",
       "      <th>骤降时分</th>\n",
       "      <th>骤降电流</th>\n",
       "      <th>变压器编号</th>\n",
       "    </tr>\n",
       "  </thead>\n",
       "  <tbody>\n",
       "    <tr>\n",
       "      <th>0</th>\n",
       "      <td>2022-03-01 01:30:00.000000</td>\n",
       "      <td>2022-03-01</td>\n",
       "      <td>01:30</td>\n",
       "      <td>B</td>\n",
       "      <td>68</td>\n",
       "    </tr>\n",
       "    <tr>\n",
       "      <th>1</th>\n",
       "      <td>2022-03-01 16:30:00.000000</td>\n",
       "      <td>2022-03-01</td>\n",
       "      <td>16:30</td>\n",
       "      <td>A</td>\n",
       "      <td>68</td>\n",
       "    </tr>\n",
       "    <tr>\n",
       "      <th>2</th>\n",
       "      <td>2022-03-02 01:14:59.999997</td>\n",
       "      <td>2022-03-02</td>\n",
       "      <td>01:15</td>\n",
       "      <td>B</td>\n",
       "      <td>68</td>\n",
       "    </tr>\n",
       "    <tr>\n",
       "      <th>3</th>\n",
       "      <td>2022-03-10 16:45:00.000003</td>\n",
       "      <td>2022-03-10</td>\n",
       "      <td>16:45</td>\n",
       "      <td>A</td>\n",
       "      <td>68</td>\n",
       "    </tr>\n",
       "    <tr>\n",
       "      <th>4</th>\n",
       "      <td>2022-03-10 17:15:00.000000</td>\n",
       "      <td>2022-03-10</td>\n",
       "      <td>17:15</td>\n",
       "      <td>B</td>\n",
       "      <td>68</td>\n",
       "    </tr>\n",
       "    <tr>\n",
       "      <th>...</th>\n",
       "      <td>...</td>\n",
       "      <td>...</td>\n",
       "      <td>...</td>\n",
       "      <td>...</td>\n",
       "      <td>...</td>\n",
       "    </tr>\n",
       "    <tr>\n",
       "      <th>6283</th>\n",
       "      <td>2022-06-29 22:45:00.000003</td>\n",
       "      <td>2022-06-29</td>\n",
       "      <td>22:45</td>\n",
       "      <td>A</td>\n",
       "      <td>76</td>\n",
       "    </tr>\n",
       "    <tr>\n",
       "      <th>6284</th>\n",
       "      <td>2022-06-29 22:59:59.999997</td>\n",
       "      <td>2022-06-29</td>\n",
       "      <td>23:00</td>\n",
       "      <td>A</td>\n",
       "      <td>76</td>\n",
       "    </tr>\n",
       "    <tr>\n",
       "      <th>6285</th>\n",
       "      <td>2022-06-29 22:59:59.999997</td>\n",
       "      <td>2022-06-29</td>\n",
       "      <td>23:00</td>\n",
       "      <td>B</td>\n",
       "      <td>76</td>\n",
       "    </tr>\n",
       "    <tr>\n",
       "      <th>6286</th>\n",
       "      <td>2022-06-29 22:59:59.999997</td>\n",
       "      <td>2022-06-29</td>\n",
       "      <td>23:00</td>\n",
       "      <td>C</td>\n",
       "      <td>76</td>\n",
       "    </tr>\n",
       "    <tr>\n",
       "      <th>6287</th>\n",
       "      <td>2022-06-30 08:30:00.000003</td>\n",
       "      <td>2022-06-30</td>\n",
       "      <td>08:30</td>\n",
       "      <td>A</td>\n",
       "      <td>76</td>\n",
       "    </tr>\n",
       "  </tbody>\n",
       "</table>\n",
       "<p>6288 rows × 5 columns</p>\n",
       "</div>"
      ],
      "text/plain": [
       "                           骤降时间       骤降日期   骤降时分 骤降电流  变压器编号\n",
       "0    2022-03-01 01:30:00.000000 2022-03-01  01:30    B     68\n",
       "1    2022-03-01 16:30:00.000000 2022-03-01  16:30    A     68\n",
       "2    2022-03-02 01:14:59.999997 2022-03-02  01:15    B     68\n",
       "3    2022-03-10 16:45:00.000003 2022-03-10  16:45    A     68\n",
       "4    2022-03-10 17:15:00.000000 2022-03-10  17:15    B     68\n",
       "...                         ...        ...    ...  ...    ...\n",
       "6283 2022-06-29 22:45:00.000003 2022-06-29  22:45    A     76\n",
       "6284 2022-06-29 22:59:59.999997 2022-06-29  23:00    A     76\n",
       "6285 2022-06-29 22:59:59.999997 2022-06-29  23:00    B     76\n",
       "6286 2022-06-29 22:59:59.999997 2022-06-29  23:00    C     76\n",
       "6287 2022-06-30 08:30:00.000003 2022-06-30  08:30    A     76\n",
       "\n",
       "[6288 rows x 5 columns]"
      ]
     },
     "execution_count": 466,
     "metadata": {},
     "output_type": "execute_result"
    }
   ],
   "source": [
    "label_data"
   ]
  },
  {
   "cell_type": "code",
   "execution_count": 467,
   "metadata": {},
   "outputs": [],
   "source": [
    "def label_(trans_feature,I_type,df_trans):\n",
    "    for i in range(df_trans.shape[0]):\n",
    "        if(df_trans['骤降电流'][i] == I_type):\n",
    "            date = df_trans['骤降日期'][i].strftime(\"%Y-%m-%d\")\n",
    "            #time = df_trans['骤降时分'][i].strftime(\"%H:%M\")\n",
    "            time = df_trans['骤降时分'][i] #str\n",
    "        \n",
    "            idx = trans_feature[(trans_feature.年月日 == date) & (trans_feature.秒分 ==time)].index\n",
    "            trans_feature['label'][idx] = 1\n",
    "            #print(idx)\n",
    "    #print('---')\n",
    "    return trans_feature"
   ]
  },
  {
   "cell_type": "markdown",
   "metadata": {},
   "source": [
    "# 每种类型特征加标签"
   ]
  },
  {
   "cell_type": "code",
   "execution_count": 454,
   "metadata": {},
   "outputs": [],
   "source": [
    "# 变压器1\n",
    "df_trans = label_data.loc[label_data['变压器编号'] == 1].reset_index()\n",
    "trans1_feature_A = label_(trans1_feature_A,'A',df_trans)\n",
    "trans1_feature_B = label_(trans1_feature_B,'B',df_trans)\n",
    "trans1_feature_C = label_(trans1_feature_C,'C',df_trans)"
   ]
  },
  {
   "cell_type": "code",
   "execution_count": 455,
   "metadata": {},
   "outputs": [],
   "source": [
    "# 变压器2\n",
    "df_trans = label_data.loc[label_data['变压器编号'] == 2].reset_index()\n",
    "trans2_feature_A = label_(trans2_feature_A,'A',df_trans)\n",
    "trans2_feature_B = label_(trans2_feature_B,'B',df_trans)\n",
    "trans2_feature_C = label_(trans2_feature_C,'C',df_trans)"
   ]
  },
  {
   "cell_type": "code",
   "execution_count": 456,
   "metadata": {},
   "outputs": [],
   "source": [
    "# 变压器3\n",
    "df_trans = label_data.loc[label_data['变压器编号'] == 3].reset_index()\n",
    "trans3_feature_A = label_(trans3_feature_A,'A',df_trans)\n",
    "trans3_feature_B = label_(trans3_feature_B,'B',df_trans)\n",
    "trans3_feature_C = label_(trans3_feature_C,'C',df_trans)"
   ]
  },
  {
   "cell_type": "code",
   "execution_count": 457,
   "metadata": {},
   "outputs": [],
   "source": [
    "# 变压器4\n",
    "df_trans = label_data.loc[label_data['变压器编号'] == 4].reset_index()\n",
    "trans4_feature_A = label_(trans4_feature_A,'A',df_trans)\n",
    "trans4_feature_B = label_(trans4_feature_B,'B',df_trans)\n",
    "trans4_feature_C = label_(trans4_feature_C,'C',df_trans)"
   ]
  },
  {
   "cell_type": "code",
   "execution_count": 458,
   "metadata": {},
   "outputs": [],
   "source": [
    "# 变压器5\n",
    "df_trans = label_data.loc[label_data['变压器编号'] == 5].reset_index()\n",
    "trans5_feature_A = label_(trans5_feature_A,'A',df_trans)\n",
    "trans5_feature_B = label_(trans5_feature_B,'B',df_trans)\n",
    "trans5_feature_C = label_(trans5_feature_C,'C',df_trans)"
   ]
  },
  {
   "cell_type": "code",
   "execution_count": 459,
   "metadata": {},
   "outputs": [],
   "source": [
    "# 变压器6\n",
    "df_trans = label_data.loc[label_data['变压器编号'] == 6].reset_index()\n",
    "trans6_feature_A = label_(trans6_feature_A,'A',df_trans)\n",
    "trans6_feature_B = label_(trans6_feature_B,'B',df_trans)\n",
    "trans6_feature_C = label_(trans6_feature_C,'C',df_trans)"
   ]
  },
  {
   "cell_type": "code",
   "execution_count": 460,
   "metadata": {},
   "outputs": [],
   "source": [
    "# 变压器7\n",
    "df_trans = label_data.loc[label_data['变压器编号'] == 7].reset_index()\n",
    "trans7_feature_A = label_(trans7_feature_A,'A',df_trans)\n",
    "trans7_feature_B = label_(trans7_feature_B,'B',df_trans)\n",
    "trans7_feature_C = label_(trans7_feature_C,'C',df_trans)"
   ]
  },
  {
   "cell_type": "code",
   "execution_count": 461,
   "metadata": {},
   "outputs": [],
   "source": [
    "# 变压器8\n",
    "df_trans = label_data.loc[label_data['变压器编号'] == 8].reset_index()\n",
    "trans8_feature_A = label_(trans8_feature_A,'A',df_trans)\n",
    "trans8_feature_B = label_(trans8_feature_B,'B',df_trans)\n",
    "trans8_feature_C = label_(trans8_feature_C,'C',df_trans)"
   ]
  },
  {
   "cell_type": "code",
   "execution_count": 462,
   "metadata": {},
   "outputs": [],
   "source": [
    "# 变压器9\n",
    "df_trans = label_data.loc[label_data['变压器编号'] == 9].reset_index()\n",
    "trans9_feature_A = label_(trans9_feature_A,'A',df_trans)\n",
    "trans9_feature_B = label_(trans9_feature_B,'B',df_trans)\n",
    "trans9_feature_C = label_(trans9_feature_C,'C',df_trans)"
   ]
  },
  {
   "cell_type": "code",
   "execution_count": 463,
   "metadata": {},
   "outputs": [],
   "source": [
    "# 变压器10\n",
    "df_trans = label_data.loc[label_data['变压器编号'] == 10].reset_index()\n",
    "trans10_feature_A = label_(trans10_feature_A,'A',df_trans)\n",
    "trans10_feature_B = label_(trans10_feature_B,'B',df_trans)\n",
    "trans10_feature_C = label_(trans10_feature_C,'C',df_trans)"
   ]
  },
  {
   "cell_type": "code",
   "execution_count": 468,
   "metadata": {},
   "outputs": [],
   "source": [
    "# 变压器68\n",
    "df_trans = label_data.loc[label_data['变压器编号'] == 68].reset_index()\n",
    "trans68_feature_A = label_(trans68_feature_A,'A',df_trans)\n",
    "trans68_feature_B = label_(trans68_feature_B,'B',df_trans)\n",
    "trans68_feature_C = label_(trans68_feature_C,'C',df_trans)"
   ]
  },
  {
   "cell_type": "code",
   "execution_count": 469,
   "metadata": {},
   "outputs": [],
   "source": [
    "# 变压器72\n",
    "df_trans = label_data.loc[label_data['变压器编号'] == 72].reset_index()\n",
    "trans72_feature_A = label_(trans72_feature_A,'A',df_trans)\n",
    "trans72_feature_B = label_(trans72_feature_B,'B',df_trans)\n",
    "trans72_feature_C = label_(trans72_feature_C,'C',df_trans)"
   ]
  },
  {
   "cell_type": "code",
   "execution_count": 470,
   "metadata": {},
   "outputs": [],
   "source": [
    "# 变压器74\n",
    "df_trans = label_data.loc[label_data['变压器编号'] == 74].reset_index()\n",
    "trans74_feature_A = label_(trans74_feature_A,'A',df_trans)\n",
    "trans74_feature_B = label_(trans74_feature_B,'B',df_trans)\n",
    "trans74_feature_C = label_(trans74_feature_C,'C',df_trans)"
   ]
  },
  {
   "cell_type": "code",
   "execution_count": 471,
   "metadata": {},
   "outputs": [],
   "source": [
    "# 变压器76\n",
    "df_trans = label_data.loc[label_data['变压器编号'] == 76].reset_index()\n",
    "trans76_feature_A = label_(trans76_feature_A,'A',df_trans)\n",
    "trans76_feature_B = label_(trans76_feature_B,'B',df_trans)\n",
    "trans76_feature_C = label_(trans76_feature_C,'C',df_trans)"
   ]
  },
  {
   "cell_type": "code",
   "execution_count": 472,
   "metadata": {},
   "outputs": [],
   "source": [
    "# 变压器134\n",
    "df_trans = label_data.loc[label_data['变压器编号'] == 134].reset_index()\n",
    "trans134_feature_A = label_(trans134_feature_A,'A',df_trans)\n",
    "trans134_feature_B = label_(trans134_feature_B,'B',df_trans)\n",
    "trans134_feature_C = label_(trans134_feature_C,'C',df_trans)"
   ]
  },
  {
   "cell_type": "code",
   "execution_count": 473,
   "metadata": {},
   "outputs": [],
   "source": [
    "# 变压器139\n",
    "df_trans = label_data.loc[label_data['变压器编号'] == 139].reset_index()\n",
    "trans139_feature_A = label_(trans139_feature_A,'A',df_trans)\n",
    "trans139_feature_B = label_(trans139_feature_B,'B',df_trans)\n",
    "trans139_feature_C = label_(trans139_feature_C,'C',df_trans)"
   ]
  },
  {
   "cell_type": "code",
   "execution_count": 474,
   "metadata": {},
   "outputs": [],
   "source": [
    "# 变压器168\n",
    "df_trans = label_data.loc[label_data['变压器编号'] == 168].reset_index()\n",
    "trans168_feature_A = label_(trans168_feature_A,'A',df_trans)\n",
    "trans168_feature_B = label_(trans168_feature_B,'B',df_trans)\n",
    "trans168_feature_C = label_(trans168_feature_C,'C',df_trans)"
   ]
  },
  {
   "cell_type": "code",
   "execution_count": 475,
   "metadata": {},
   "outputs": [],
   "source": [
    "# 变压器185\n",
    "df_trans = label_data.loc[label_data['变压器编号'] == 185].reset_index()\n",
    "trans185_feature_A = label_(trans185_feature_A,'A',df_trans)\n",
    "trans185_feature_B = label_(trans185_feature_B,'B',df_trans)\n",
    "trans185_feature_C = label_(trans185_feature_C,'C',df_trans)"
   ]
  },
  {
   "cell_type": "code",
   "execution_count": 476,
   "metadata": {},
   "outputs": [],
   "source": [
    "# 变压器227\n",
    "df_trans = label_data.loc[label_data['变压器编号'] == 227].reset_index()\n",
    "trans227_feature_A = label_(trans227_feature_A,'A',df_trans)\n",
    "trans227_feature_B = label_(trans227_feature_B,'B',df_trans)\n",
    "trans227_feature_C = label_(trans227_feature_C,'C',df_trans)"
   ]
  },
  {
   "cell_type": "code",
   "execution_count": 477,
   "metadata": {},
   "outputs": [],
   "source": [
    "# 变压器230\n",
    "df_trans = label_data.loc[label_data['变压器编号'] == 230].reset_index()\n",
    "trans230_feature_A = label_(trans230_feature_A,'A',df_trans)\n",
    "trans230_feature_B = label_(trans230_feature_B,'B',df_trans)\n",
    "trans230_feature_C = label_(trans230_feature_C,'C',df_trans)"
   ]
  },
  {
   "cell_type": "markdown",
   "metadata": {},
   "source": [
    "# 特征集合成"
   ]
  },
  {
   "cell_type": "code",
   "execution_count": 478,
   "metadata": {},
   "outputs": [],
   "source": [
    "Feature_A = pd.concat([\n",
    "    trans1_feature_A,\n",
    "    trans2_feature_A,\n",
    "    trans3_feature_A,\n",
    "    trans4_feature_A,\n",
    "    trans5_feature_A,\n",
    "    trans6_feature_A,\n",
    "    trans7_feature_A,\n",
    "    trans8_feature_A,\n",
    "    trans9_feature_A,\n",
    "    trans10_feature_A,\n",
    "    \n",
    "    trans68_feature_A,\n",
    "    trans72_feature_A,\n",
    "    trans74_feature_A,\n",
    "    trans76_feature_A,\n",
    "    trans134_feature_A,\n",
    "    trans139_feature_A,\n",
    "    trans168_feature_A,\n",
    "    trans185_feature_A,\n",
    "    trans227_feature_A,\n",
    "    trans230_feature_A,\n",
    "]) "
   ]
  },
  {
   "cell_type": "code",
   "execution_count": 479,
   "metadata": {},
   "outputs": [],
   "source": [
    "Feature_B = pd.concat([\n",
    "    trans1_feature_B,\n",
    "    trans2_feature_B,\n",
    "    trans3_feature_B,\n",
    "    trans4_feature_B,\n",
    "    trans5_feature_B,\n",
    "    trans6_feature_B,\n",
    "    trans7_feature_B,\n",
    "    trans8_feature_B,\n",
    "    trans9_feature_B,\n",
    "    trans10_feature_B,\n",
    "    \n",
    "    trans68_feature_B,\n",
    "    trans72_feature_B,\n",
    "    trans74_feature_B,\n",
    "    trans76_feature_B,\n",
    "    trans134_feature_B,\n",
    "    trans139_feature_B,\n",
    "    trans168_feature_B,\n",
    "    trans185_feature_B,\n",
    "    trans227_feature_B,\n",
    "    trans230_feature_B,\n",
    "]) "
   ]
  },
  {
   "cell_type": "code",
   "execution_count": 480,
   "metadata": {},
   "outputs": [],
   "source": [
    "Feature_C = pd.concat([\n",
    "    trans1_feature_C,\n",
    "    trans2_feature_C,\n",
    "    trans3_feature_C,\n",
    "    trans4_feature_C,\n",
    "    trans5_feature_C,\n",
    "    trans6_feature_C,\n",
    "    trans7_feature_C,\n",
    "    trans8_feature_C,\n",
    "    trans9_feature_C,\n",
    "    trans10_feature_C,\n",
    "    \n",
    "    trans68_feature_C,\n",
    "    trans72_feature_C,\n",
    "    trans74_feature_C,\n",
    "    trans76_feature_C,\n",
    "    trans134_feature_C,\n",
    "    trans139_feature_C,\n",
    "    trans168_feature_C,\n",
    "    trans185_feature_C,\n",
    "    trans227_feature_C,\n",
    "    trans230_feature_C,\n",
    "]) "
   ]
  },
  {
   "cell_type": "code",
   "execution_count": 481,
   "metadata": {},
   "outputs": [],
   "source": [
    "Feature_A.to_excel('Feature_A.xlsx')\n",
    "Feature_B.to_excel('Feature_B.xlsx')\n",
    "Feature_C.to_excel('Feature_C.xlsx')"
   ]
  },
  {
   "cell_type": "code",
   "execution_count": 485,
   "metadata": {},
   "outputs": [],
   "source": [
    "Feature_A = Feature_A.rename(columns={\"Isa_A\": \"Isa\", \"Isd_A\": \"Isd\",\"Iar_A\": \"Iar\",\"Pvd_A\": \"Pvd\",\"θ_A\":\"θ\"})\n",
    "Feature_B = Feature_B.rename(columns={\"Isa_B\": \"Isa\", \"Isd_B\": \"Isd\",\"Iar_B\": \"Iar\",\"Pvd_B\": \"Pvd\",\"θ_B\":\"θ\"})\n",
    "Feature_C = Feature_C.rename(columns={\"Isa_C\": \"Isa\", \"Isd_C\": \"Isd\",\"Iar_C\": \"Iar\",\"Pvd_C\": \"Pvd\",\"θ_C\":\"θ\"})"
   ]
  },
  {
   "cell_type": "code",
   "execution_count": 486,
   "metadata": {},
   "outputs": [],
   "source": [
    "Feature = pd.concat([\n",
    "    Feature_A,\n",
    "    Feature_B,\n",
    "    Feature_C,\n",
    "]) "
   ]
  },
  {
   "cell_type": "code",
   "execution_count": 487,
   "metadata": {},
   "outputs": [
    {
     "data": {
      "text/html": [
       "<div>\n",
       "<style scoped>\n",
       "    .dataframe tbody tr th:only-of-type {\n",
       "        vertical-align: middle;\n",
       "    }\n",
       "\n",
       "    .dataframe tbody tr th {\n",
       "        vertical-align: top;\n",
       "    }\n",
       "\n",
       "    .dataframe thead th {\n",
       "        text-align: right;\n",
       "    }\n",
       "</style>\n",
       "<table border=\"1\" class=\"dataframe\">\n",
       "  <thead>\n",
       "    <tr style=\"text-align: right;\">\n",
       "      <th></th>\n",
       "      <th>年月日</th>\n",
       "      <th>秒分</th>\n",
       "      <th>负载率</th>\n",
       "      <th>Isa</th>\n",
       "      <th>三相电流不平衡度</th>\n",
       "      <th>Isd</th>\n",
       "      <th>Iar</th>\n",
       "      <th>Pvd</th>\n",
       "      <th>负载率差值</th>\n",
       "      <th>label</th>\n",
       "      <th>θ</th>\n",
       "    </tr>\n",
       "  </thead>\n",
       "  <tbody>\n",
       "    <tr>\n",
       "      <th>0</th>\n",
       "      <td>2021-07-01</td>\n",
       "      <td>00:00</td>\n",
       "      <td>14.3738</td>\n",
       "      <td>0.000000</td>\n",
       "      <td>0.221106</td>\n",
       "      <td>0.000000</td>\n",
       "      <td>0.128571</td>\n",
       "      <td>0.000222</td>\n",
       "      <td>-1.6595</td>\n",
       "      <td>0</td>\n",
       "      <td>0.006229</td>\n",
       "    </tr>\n",
       "    <tr>\n",
       "      <th>1</th>\n",
       "      <td>2021-07-01</td>\n",
       "      <td>00:15</td>\n",
       "      <td>12.7143</td>\n",
       "      <td>-7.931262</td>\n",
       "      <td>0.372881</td>\n",
       "      <td>-6.172840</td>\n",
       "      <td>0.128571</td>\n",
       "      <td>0.000222</td>\n",
       "      <td>1.2278</td>\n",
       "      <td>0</td>\n",
       "      <td>-0.078344</td>\n",
       "    </tr>\n",
       "    <tr>\n",
       "      <th>2</th>\n",
       "      <td>2021-07-01</td>\n",
       "      <td>00:30</td>\n",
       "      <td>13.9421</td>\n",
       "      <td>-14.276272</td>\n",
       "      <td>0.316327</td>\n",
       "      <td>-10.465116</td>\n",
       "      <td>0.136508</td>\n",
       "      <td>0.000270</td>\n",
       "      <td>1.8539</td>\n",
       "      <td>0</td>\n",
       "      <td>-0.140728</td>\n",
       "    </tr>\n",
       "    <tr>\n",
       "      <th>3</th>\n",
       "      <td>2021-07-01</td>\n",
       "      <td>00:45</td>\n",
       "      <td>15.7960</td>\n",
       "      <td>38.070059</td>\n",
       "      <td>0.295455</td>\n",
       "      <td>25.263158</td>\n",
       "      <td>0.150794</td>\n",
       "      <td>0.000413</td>\n",
       "      <td>-3.3165</td>\n",
       "      <td>0</td>\n",
       "      <td>0.353894</td>\n",
       "    </tr>\n",
       "    <tr>\n",
       "      <th>4</th>\n",
       "      <td>2021-07-01</td>\n",
       "      <td>01:00</td>\n",
       "      <td>12.4795</td>\n",
       "      <td>3.172505</td>\n",
       "      <td>0.231214</td>\n",
       "      <td>2.816901</td>\n",
       "      <td>0.112698</td>\n",
       "      <td>0.000032</td>\n",
       "      <td>-0.2619</td>\n",
       "      <td>0</td>\n",
       "      <td>0.034775</td>\n",
       "    </tr>\n",
       "    <tr>\n",
       "      <th>...</th>\n",
       "      <td>...</td>\n",
       "      <td>...</td>\n",
       "      <td>...</td>\n",
       "      <td>...</td>\n",
       "      <td>...</td>\n",
       "      <td>...</td>\n",
       "      <td>...</td>\n",
       "      <td>...</td>\n",
       "      <td>...</td>\n",
       "      <td>...</td>\n",
       "      <td>...</td>\n",
       "    </tr>\n",
       "    <tr>\n",
       "      <th>3234</th>\n",
       "      <td>2022-06-01 00:00:00</td>\n",
       "      <td>22:30</td>\n",
       "      <td>31.1940</td>\n",
       "      <td>20.273783</td>\n",
       "      <td>0.354571</td>\n",
       "      <td>12.264151</td>\n",
       "      <td>0.132500</td>\n",
       "      <td>0.000188</td>\n",
       "      <td>-1.4550</td>\n",
       "      <td>0</td>\n",
       "      <td>0.194918</td>\n",
       "    </tr>\n",
       "    <tr>\n",
       "      <th>3235</th>\n",
       "      <td>2022-06-01 00:00:00</td>\n",
       "      <td>22:45</td>\n",
       "      <td>29.7390</td>\n",
       "      <td>3.119043</td>\n",
       "      <td>0.320700</td>\n",
       "      <td>2.150538</td>\n",
       "      <td>0.116250</td>\n",
       "      <td>0.000162</td>\n",
       "      <td>-1.3405</td>\n",
       "      <td>0</td>\n",
       "      <td>0.031242</td>\n",
       "    </tr>\n",
       "    <tr>\n",
       "      <th>3236</th>\n",
       "      <td>2022-06-01 00:00:00</td>\n",
       "      <td>23:00</td>\n",
       "      <td>28.3985</td>\n",
       "      <td>-17.154739</td>\n",
       "      <td>0.298780</td>\n",
       "      <td>-12.087912</td>\n",
       "      <td>0.113750</td>\n",
       "      <td>0.000138</td>\n",
       "      <td>0.8215</td>\n",
       "      <td>0</td>\n",
       "      <td>-0.163540</td>\n",
       "    </tr>\n",
       "    <tr>\n",
       "      <th>3237</th>\n",
       "      <td>2022-06-01 00:00:00</td>\n",
       "      <td>23:15</td>\n",
       "      <td>29.2200</td>\n",
       "      <td>34.309478</td>\n",
       "      <td>0.274336</td>\n",
       "      <td>21.568627</td>\n",
       "      <td>0.127500</td>\n",
       "      <td>0.001275</td>\n",
       "      <td>-3.1544</td>\n",
       "      <td>0</td>\n",
       "      <td>0.324957</td>\n",
       "    </tr>\n",
       "    <tr>\n",
       "      <th>3238</th>\n",
       "      <td>2022-06-01 00:00:00</td>\n",
       "      <td>23:30</td>\n",
       "      <td>26.0656</td>\n",
       "      <td>-12.476174</td>\n",
       "      <td>0.380795</td>\n",
       "      <td>-10.000000</td>\n",
       "      <td>0.100000</td>\n",
       "      <td>0.001000</td>\n",
       "      <td>-1.5270</td>\n",
       "      <td>0</td>\n",
       "      <td>-0.120859</td>\n",
       "    </tr>\n",
       "  </tbody>\n",
       "</table>\n",
       "<p>151452 rows × 11 columns</p>\n",
       "</div>"
      ],
      "text/plain": [
       "                      年月日     秒分      负载率        Isa  三相电流不平衡度        Isd  \\\n",
       "0              2021-07-01  00:00  14.3738   0.000000  0.221106   0.000000   \n",
       "1              2021-07-01  00:15  12.7143  -7.931262  0.372881  -6.172840   \n",
       "2              2021-07-01  00:30  13.9421 -14.276272  0.316327 -10.465116   \n",
       "3              2021-07-01  00:45  15.7960  38.070059  0.295455  25.263158   \n",
       "4              2021-07-01  01:00  12.4795   3.172505  0.231214   2.816901   \n",
       "...                   ...    ...      ...        ...       ...        ...   \n",
       "3234  2022-06-01 00:00:00  22:30  31.1940  20.273783  0.354571  12.264151   \n",
       "3235  2022-06-01 00:00:00  22:45  29.7390   3.119043  0.320700   2.150538   \n",
       "3236  2022-06-01 00:00:00  23:00  28.3985 -17.154739  0.298780 -12.087912   \n",
       "3237  2022-06-01 00:00:00  23:15  29.2200  34.309478  0.274336  21.568627   \n",
       "3238  2022-06-01 00:00:00  23:30  26.0656 -12.476174  0.380795 -10.000000   \n",
       "\n",
       "           Iar       Pvd   负载率差值  label         θ  \n",
       "0     0.128571  0.000222 -1.6595      0  0.006229  \n",
       "1     0.128571  0.000222  1.2278      0 -0.078344  \n",
       "2     0.136508  0.000270  1.8539      0 -0.140728  \n",
       "3     0.150794  0.000413 -3.3165      0  0.353894  \n",
       "4     0.112698  0.000032 -0.2619      0  0.034775  \n",
       "...        ...       ...     ...    ...       ...  \n",
       "3234  0.132500  0.000188 -1.4550      0  0.194918  \n",
       "3235  0.116250  0.000162 -1.3405      0  0.031242  \n",
       "3236  0.113750  0.000138  0.8215      0 -0.163540  \n",
       "3237  0.127500  0.001275 -3.1544      0  0.324957  \n",
       "3238  0.100000  0.001000 -1.5270      0 -0.120859  \n",
       "\n",
       "[151452 rows x 11 columns]"
      ]
     },
     "execution_count": 487,
     "metadata": {},
     "output_type": "execute_result"
    }
   ],
   "source": [
    "Feature"
   ]
  },
  {
   "cell_type": "code",
   "execution_count": 488,
   "metadata": {},
   "outputs": [],
   "source": [
    "label_y = Feature['label']\n",
    "X_feat =  Feature[['负载率','Isa','三相电流不平衡度','Isd','Iar','Pvd','负载率差值','θ']]\n",
    "# float64->float32\n",
    "#X_feat[X_feat.select_dtypes(np.float64).columns] = X_feat.select_dtypes(np.float64).astype(np.float32)"
   ]
  },
  {
   "cell_type": "code",
   "execution_count": 489,
   "metadata": {},
   "outputs": [
    {
     "name": "stdout",
     "output_type": "stream",
     "text": [
      "Counter({0: 149618, 1: 1834})\n"
     ]
    }
   ],
   "source": [
    "from collections import Counter\n",
    "# 查看所生成的样本类别分布，0和1样本比例9比1，属于类别不平衡数据\n",
    "print(Counter(label_y))\n",
    "# Counter({0: 900, 1: 100})"
   ]
  },
  {
   "cell_type": "code",
   "execution_count": null,
   "metadata": {},
   "outputs": [],
   "source": [
    "# inf,nan数据填充\n",
    "X_feat = (X_feat.replace([np.inf, -np.inf], np.nan)).fillna(value = 0) "
   ]
  },
  {
   "cell_type": "code",
   "execution_count": 491,
   "metadata": {},
   "outputs": [],
   "source": [
    "# 使用imlbearn库中上采样方法中的SMOTE接口\n",
    "from imblearn.over_sampling import SMOTE\n",
    "# 定义SMOTE模型，random_state相当于随机数种子的作用\n",
    "smo = SMOTE(random_state=42)\n",
    "X_smo, y_smo = smo.fit_resample(X_feat, label_y)"
   ]
  },
  {
   "cell_type": "code",
   "execution_count": 492,
   "metadata": {},
   "outputs": [
    {
     "data": {
      "text/html": [
       "<div>\n",
       "<style scoped>\n",
       "    .dataframe tbody tr th:only-of-type {\n",
       "        vertical-align: middle;\n",
       "    }\n",
       "\n",
       "    .dataframe tbody tr th {\n",
       "        vertical-align: top;\n",
       "    }\n",
       "\n",
       "    .dataframe thead th {\n",
       "        text-align: right;\n",
       "    }\n",
       "</style>\n",
       "<table border=\"1\" class=\"dataframe\">\n",
       "  <thead>\n",
       "    <tr style=\"text-align: right;\">\n",
       "      <th></th>\n",
       "      <th>负载率</th>\n",
       "      <th>Isa</th>\n",
       "      <th>三相电流不平衡度</th>\n",
       "      <th>Isd</th>\n",
       "      <th>Iar</th>\n",
       "      <th>Pvd</th>\n",
       "      <th>负载率差值</th>\n",
       "      <th>θ</th>\n",
       "    </tr>\n",
       "  </thead>\n",
       "  <tbody>\n",
       "    <tr>\n",
       "      <th>0</th>\n",
       "      <td>14.373800</td>\n",
       "      <td>0.000000</td>\n",
       "      <td>0.221106</td>\n",
       "      <td>0.000000</td>\n",
       "      <td>0.128571</td>\n",
       "      <td>0.000222</td>\n",
       "      <td>-1.659500</td>\n",
       "      <td>0.006229</td>\n",
       "    </tr>\n",
       "    <tr>\n",
       "      <th>1</th>\n",
       "      <td>12.714300</td>\n",
       "      <td>-7.931262</td>\n",
       "      <td>0.372881</td>\n",
       "      <td>-6.172840</td>\n",
       "      <td>0.128571</td>\n",
       "      <td>0.000222</td>\n",
       "      <td>1.227800</td>\n",
       "      <td>-0.078344</td>\n",
       "    </tr>\n",
       "    <tr>\n",
       "      <th>2</th>\n",
       "      <td>13.942100</td>\n",
       "      <td>-14.276272</td>\n",
       "      <td>0.316327</td>\n",
       "      <td>-10.465116</td>\n",
       "      <td>0.136508</td>\n",
       "      <td>0.000270</td>\n",
       "      <td>1.853900</td>\n",
       "      <td>-0.140728</td>\n",
       "    </tr>\n",
       "    <tr>\n",
       "      <th>3</th>\n",
       "      <td>15.796000</td>\n",
       "      <td>38.070059</td>\n",
       "      <td>0.295455</td>\n",
       "      <td>25.263158</td>\n",
       "      <td>0.150794</td>\n",
       "      <td>0.000413</td>\n",
       "      <td>-3.316500</td>\n",
       "      <td>0.353894</td>\n",
       "    </tr>\n",
       "    <tr>\n",
       "      <th>4</th>\n",
       "      <td>12.479500</td>\n",
       "      <td>3.172505</td>\n",
       "      <td>0.231214</td>\n",
       "      <td>2.816901</td>\n",
       "      <td>0.112698</td>\n",
       "      <td>0.000032</td>\n",
       "      <td>-0.261900</td>\n",
       "      <td>0.034775</td>\n",
       "    </tr>\n",
       "    <tr>\n",
       "      <th>...</th>\n",
       "      <td>...</td>\n",
       "      <td>...</td>\n",
       "      <td>...</td>\n",
       "      <td>...</td>\n",
       "      <td>...</td>\n",
       "      <td>...</td>\n",
       "      <td>...</td>\n",
       "      <td>...</td>\n",
       "    </tr>\n",
       "    <tr>\n",
       "      <th>299231</th>\n",
       "      <td>16.318183</td>\n",
       "      <td>-22.278998</td>\n",
       "      <td>0.251495</td>\n",
       "      <td>-20.864044</td>\n",
       "      <td>0.146751</td>\n",
       "      <td>0.000391</td>\n",
       "      <td>1.918612</td>\n",
       "      <td>-0.218812</td>\n",
       "    </tr>\n",
       "    <tr>\n",
       "      <th>299232</th>\n",
       "      <td>5.064354</td>\n",
       "      <td>-84.854526</td>\n",
       "      <td>0.279909</td>\n",
       "      <td>-151.887609</td>\n",
       "      <td>0.036940</td>\n",
       "      <td>0.000578</td>\n",
       "      <td>2.766760</td>\n",
       "      <td>-0.700622</td>\n",
       "    </tr>\n",
       "    <tr>\n",
       "      <th>299233</th>\n",
       "      <td>19.471195</td>\n",
       "      <td>-23.951392</td>\n",
       "      <td>0.386530</td>\n",
       "      <td>-17.749873</td>\n",
       "      <td>0.091627</td>\n",
       "      <td>0.000229</td>\n",
       "      <td>1.796548</td>\n",
       "      <td>-0.233068</td>\n",
       "    </tr>\n",
       "    <tr>\n",
       "      <th>299234</th>\n",
       "      <td>18.119446</td>\n",
       "      <td>-50.202186</td>\n",
       "      <td>0.568227</td>\n",
       "      <td>-132.136228</td>\n",
       "      <td>0.076000</td>\n",
       "      <td>0.001348</td>\n",
       "      <td>14.167156</td>\n",
       "      <td>-0.457158</td>\n",
       "    </tr>\n",
       "    <tr>\n",
       "      <th>299235</th>\n",
       "      <td>24.059451</td>\n",
       "      <td>11.087138</td>\n",
       "      <td>0.079039</td>\n",
       "      <td>10.255191</td>\n",
       "      <td>0.172603</td>\n",
       "      <td>0.000179</td>\n",
       "      <td>-1.565689</td>\n",
       "      <td>0.108278</td>\n",
       "    </tr>\n",
       "  </tbody>\n",
       "</table>\n",
       "<p>299236 rows × 8 columns</p>\n",
       "</div>"
      ],
      "text/plain": [
       "              负载率        Isa  三相电流不平衡度         Isd       Iar       Pvd  \\\n",
       "0       14.373800   0.000000  0.221106    0.000000  0.128571  0.000222   \n",
       "1       12.714300  -7.931262  0.372881   -6.172840  0.128571  0.000222   \n",
       "2       13.942100 -14.276272  0.316327  -10.465116  0.136508  0.000270   \n",
       "3       15.796000  38.070059  0.295455   25.263158  0.150794  0.000413   \n",
       "4       12.479500   3.172505  0.231214    2.816901  0.112698  0.000032   \n",
       "...           ...        ...       ...         ...       ...       ...   \n",
       "299231  16.318183 -22.278998  0.251495  -20.864044  0.146751  0.000391   \n",
       "299232   5.064354 -84.854526  0.279909 -151.887609  0.036940  0.000578   \n",
       "299233  19.471195 -23.951392  0.386530  -17.749873  0.091627  0.000229   \n",
       "299234  18.119446 -50.202186  0.568227 -132.136228  0.076000  0.001348   \n",
       "299235  24.059451  11.087138  0.079039   10.255191  0.172603  0.000179   \n",
       "\n",
       "            负载率差值         θ  \n",
       "0       -1.659500  0.006229  \n",
       "1        1.227800 -0.078344  \n",
       "2        1.853900 -0.140728  \n",
       "3       -3.316500  0.353894  \n",
       "4       -0.261900  0.034775  \n",
       "...           ...       ...  \n",
       "299231   1.918612 -0.218812  \n",
       "299232   2.766760 -0.700622  \n",
       "299233   1.796548 -0.233068  \n",
       "299234  14.167156 -0.457158  \n",
       "299235  -1.565689  0.108278  \n",
       "\n",
       "[299236 rows x 8 columns]"
      ]
     },
     "execution_count": 492,
     "metadata": {},
     "output_type": "execute_result"
    }
   ],
   "source": [
    "X_smo"
   ]
  },
  {
   "cell_type": "code",
   "execution_count": null,
   "metadata": {},
   "outputs": [],
   "source": []
  }
 ],
 "metadata": {
  "kernelspec": {
   "display_name": "Python [conda env:AMC]",
   "language": "python",
   "name": "conda-env-AMC-py"
  },
  "language_info": {
   "codemirror_mode": {
    "name": "ipython",
    "version": 3
   },
   "file_extension": ".py",
   "mimetype": "text/x-python",
   "name": "python",
   "nbconvert_exporter": "python",
   "pygments_lexer": "ipython3",
   "version": "3.7.6"
  }
 },
 "nbformat": 4,
 "nbformat_minor": 4
}
