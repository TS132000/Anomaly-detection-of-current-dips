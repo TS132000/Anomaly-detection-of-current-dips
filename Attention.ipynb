{
 "cells": [
  {
   "cell_type": "code",
   "execution_count": 1,
   "metadata": {},
   "outputs": [
    {
     "name": "stdout",
     "output_type": "stream",
     "text": [
      "WARNING:tensorflow:From D:\\Anaconda3\\envs\\AMC\\lib\\site-packages\\tensorflow\\python\\compat\\v2_compat.py:96: disable_resource_variables (from tensorflow.python.ops.variable_scope) is deprecated and will be removed in a future version.\n",
      "Instructions for updating:\n",
      "non-resource variables are not supported in the long term\n"
     ]
    }
   ],
   "source": [
    "import numpy as np\n",
    "import pandas as pd\n",
    "\n",
    "from sklearn.preprocessing import LabelEncoder\n",
    "from sklearn.preprocessing import MinMaxScaler\n",
    "from sklearn.model_selection import KFold\n",
    "import keras\n",
    "from keras import layers\n",
    "from keras.layers import Activation, Dense\n",
    "from keras.optimizers import RMSprop\n",
    "import rbflayer, kmeans_initializer\n",
    "from rbflayer import InitCentersRandom\n",
    "from keras.initializers import RandomUniform, Initializer, Constant\n",
    "\n",
    "from keras.layers import Dense, Flatten, Conv2D, MaxPooling2D, Conv1D, MaxPooling1D, Activation, Dropout\n",
    "import tensorflow.compat.v1 as tf\n",
    "tf.disable_v2_behavior()\n",
    "\n",
    "from scipy import * \n",
    "from scipy.linalg import norm, pinv\n",
    "from matplotlib import pyplot as plt  \n",
    "import warnings\n",
    "warnings.filterwarnings(\"ignore\")"
   ]
  },
  {
   "cell_type": "code",
   "execution_count": 2,
   "metadata": {},
   "outputs": [],
   "source": [
    "import keras.backend as K\n",
    "import numpy as np\n",
    " \n",
    " \n",
    "def get_activations(model, inputs, print_shape_only=False, layer_name=None):\n",
    "    # Documentation is available online on Github at the address below.\n",
    "    # From: https://github.com/philipperemy/keras-visualize-activations\n",
    "    print('----- activations -----')\n",
    "    activations = []\n",
    "    inp = model.input\n",
    "    if layer_name is None:\n",
    "        outputs = [layer.output for layer in model.layers]\n",
    "    else:\n",
    "        outputs = [layer.output for layer in model.layers if layer.name == layer_name]  # all layer outputs\n",
    "    funcs = [K.function([inp] + [K.learning_phase()], [out]) for out in outputs]  # evaluation functions\n",
    "    layer_outputs = [func([inputs, 1.])[0] for func in funcs]\n",
    "    for layer_activations in layer_outputs:\n",
    "        activations.append(layer_activations)\n",
    "        if print_shape_only:\n",
    "            print(layer_activations.shape)\n",
    "        else:\n",
    "            print(layer_activations)\n",
    "    return activations\n",
    " \n",
    " \n",
    "def get_data(n, input_dim, attention_column=1):\n",
    "    \"\"\"\n",
    "    Data generation. x is purely random except that it's first value equals the target y.\n",
    "    In practice, the network should learn that the target = x[attention_column].\n",
    "    Therefore, most of its attention should be focused on the value addressed by attention_column.\n",
    "    :param n: the number of samples to retrieve.\n",
    "    :param input_dim: the number of dimensions of each element in the series.\n",
    "    :param attention_column: the column linked to the target. Everything else is purely random.\n",
    "    :return: x: model inputs, y: model targets\n",
    "    \"\"\"\n",
    "    x = np.random.standard_normal(size=(n, input_dim))\n",
    "    y = np.random.randint(low=0, high=2, size=(n, 1))\n",
    "    x[:, attention_column] = y[:, 0]\n",
    "    return x, y"
   ]
  },
  {
   "cell_type": "code",
   "execution_count": 14,
   "metadata": {},
   "outputs": [],
   "source": [
    "import matplotlib.pyplot as plt\n",
    "import pandas as pd\n",
    "import numpy as np\n",
    " \n",
    "#from attention_utils import get_activations, get_data\n",
    " \n",
    "np.random.seed(1337)  # for reproducibility\n",
    " \n",
    "from keras.models import *\n",
    "from keras.layers import Input, Dense,Multiply,Activation\n",
    " \n",
    "input_dim = 4\n",
    " \n",
    " \n",
    " \n",
    "def Att(att_dim,inputs,name):\n",
    "    V = inputs\n",
    "    QK = Dense(att_dim,use_bias=None)(inputs)\n",
    "    QK = Activation(\"softmax\",name=name)(QK)\n",
    "    MV = Multiply()([V, QK])\n",
    "    return(MV)"
   ]
  },
  {
   "cell_type": "code",
   "execution_count": 19,
   "metadata": {},
   "outputs": [],
   "source": [
    "def build_model():\n",
    "    inputs = Input(shape=(input_dim,))\n",
    " \n",
    "    atts1 = Att(input_dim,inputs,\"attention_vec\")\n",
    " \n",
    "    x = Dense(16)(atts1)\n",
    "    atts2 = Att(16,x,\"attention_vec1\")\n",
    " \n",
    " \n",
    "    output = Dense(1, activation='sigmoid')(atts2)\n",
    "    model = Model(inputs=inputs, outputs=output)\n",
    "    return model"
   ]
  },
  {
   "cell_type": "code",
   "execution_count": 21,
   "metadata": {},
   "outputs": [
    {
     "name": "stdout",
     "output_type": "stream",
     "text": [
      "[[ 1.05427413  1.         -1.73300358 -2.34836064]\n",
      " [ 0.11045848  1.         -0.21589959 -0.52714519]] [[1]\n",
      " [1]]\n"
     ]
    }
   ],
   "source": [
    "N = 10000\n",
    "inputs_1, outputs = get_data(N, input_dim)\n",
    "\n",
    "print(inputs_1[:2],outputs[:2])"
   ]
  },
  {
   "cell_type": "code",
   "execution_count": 24,
   "metadata": {},
   "outputs": [
    {
     "data": {
      "text/plain": [
       "((10000, 4), (10000, 1))"
      ]
     },
     "execution_count": 24,
     "metadata": {},
     "output_type": "execute_result"
    }
   ],
   "source": [
    "inputs_1.shape,outputs.shape"
   ]
  },
  {
   "cell_type": "code",
   "execution_count": 25,
   "metadata": {},
   "outputs": [
    {
     "data": {
      "text/plain": [
       "array([[ 1.05427413,  1.        , -1.73300358, -2.34836064],\n",
       "       [ 0.11045848,  1.        , -0.21589959, -0.52714519],\n",
       "       [-1.62608443,  0.        , -1.06804895,  0.9379454 ],\n",
       "       ...,\n",
       "       [-0.33466576,  1.        ,  1.22777748,  1.70883121],\n",
       "       [ 0.19871098,  1.        , -0.50357535, -0.55081286],\n",
       "       [-0.68933405,  0.        ,  0.28214771,  0.66918172]])"
      ]
     },
     "execution_count": 25,
     "metadata": {},
     "output_type": "execute_result"
    }
   ],
   "source": [
    "inputs_1"
   ]
  },
  {
   "cell_type": "code",
   "execution_count": 20,
   "metadata": {},
   "outputs": [
    {
     "name": "stdout",
     "output_type": "stream",
     "text": [
      "[[-0.27979466  1.          0.26975574 -1.35149786]\n",
      " [-1.73264006  1.          0.91832546  0.94513606]] [[1]\n",
      " [1]]\n",
      "Model: \"functional_1\"\n",
      "__________________________________________________________________________________________________\n",
      "Layer (type)                    Output Shape         Param #     Connected to                     \n",
      "==================================================================================================\n",
      "input_7 (InputLayer)            [(None, 4)]          0                                            \n",
      "__________________________________________________________________________________________________\n",
      "dense_20 (Dense)                (None, 4)            16          input_7[0][0]                    \n",
      "__________________________________________________________________________________________________\n",
      "attention_vec (Activation)      (None, 4)            0           dense_20[0][0]                   \n",
      "__________________________________________________________________________________________________\n",
      "multiply_10 (Multiply)          (None, 4)            0           input_7[0][0]                    \n",
      "                                                                 attention_vec[0][0]              \n",
      "__________________________________________________________________________________________________\n",
      "dense_21 (Dense)                (None, 16)           80          multiply_10[0][0]                \n",
      "__________________________________________________________________________________________________\n",
      "dense_22 (Dense)                (None, 16)           256         dense_21[0][0]                   \n",
      "__________________________________________________________________________________________________\n",
      "attention_vec1 (Activation)     (None, 16)           0           dense_22[0][0]                   \n",
      "__________________________________________________________________________________________________\n",
      "multiply_11 (Multiply)          (None, 16)           0           dense_21[0][0]                   \n",
      "                                                                 attention_vec1[0][0]             \n",
      "__________________________________________________________________________________________________\n",
      "dense_23 (Dense)                (None, 1)            17          multiply_11[0][0]                \n",
      "==================================================================================================\n",
      "Total params: 369\n",
      "Trainable params: 369\n",
      "Non-trainable params: 0\n",
      "__________________________________________________________________________________________________\n",
      "None\n",
      "Train on 8000 samples, validate on 2000 samples\n",
      "Epoch 1/20\n",
      "6400/8000 [=======================>......] - ETA: 0s - loss: 0.6910 - acc: 0.5502WARNING:tensorflow:From D:\\Anaconda3\\envs\\AMC\\lib\\site-packages\\tensorflow\\python\\keras\\engine\\training_v1.py:2048: Model.state_updates (from tensorflow.python.keras.engine.training) is deprecated and will be removed in a future version.\n",
      "Instructions for updating:\n",
      "This property should not be used in TensorFlow 2.0, as updates are applied automatically.\n",
      "8000/8000 [==============================] - 0s 25us/sample - loss: 0.6905 - acc: 0.5594 - val_loss: 0.6883 - val_acc: 0.5730\n",
      "Epoch 2/20\n",
      "8000/8000 [==============================] - 0s 19us/sample - loss: 0.6850 - acc: 0.5861 - val_loss: 0.6803 - val_acc: 0.5765\n",
      "Epoch 3/20\n",
      "8000/8000 [==============================] - 0s 18us/sample - loss: 0.6743 - acc: 0.5829 - val_loss: 0.6665 - val_acc: 0.5870\n",
      "Epoch 4/20\n",
      "8000/8000 [==============================] - 0s 20us/sample - loss: 0.6572 - acc: 0.6149 - val_loss: 0.6456 - val_acc: 0.6350\n",
      "Epoch 5/20\n",
      "8000/8000 [==============================] - 0s 19us/sample - loss: 0.6298 - acc: 0.6643 - val_loss: 0.6116 - val_acc: 0.7035\n",
      "Epoch 6/20\n",
      "8000/8000 [==============================] - 0s 19us/sample - loss: 0.5859 - acc: 0.7545 - val_loss: 0.5537 - val_acc: 0.8060\n",
      "Epoch 7/20\n",
      "8000/8000 [==============================] - 0s 19us/sample - loss: 0.5143 - acc: 0.8414 - val_loss: 0.4688 - val_acc: 0.8650\n",
      "Epoch 8/20\n",
      "8000/8000 [==============================] - 0s 19us/sample - loss: 0.4350 - acc: 0.8712 - val_loss: 0.3983 - val_acc: 0.8825\n",
      "Epoch 9/20\n",
      "8000/8000 [==============================] - 0s 19us/sample - loss: 0.3722 - acc: 0.8896 - val_loss: 0.3435 - val_acc: 0.8975\n",
      "Epoch 10/20\n",
      "8000/8000 [==============================] - 0s 18us/sample - loss: 0.3215 - acc: 0.9095 - val_loss: 0.2983 - val_acc: 0.9140\n",
      "Epoch 11/20\n",
      "8000/8000 [==============================] - 0s 18us/sample - loss: 0.2778 - acc: 0.9275 - val_loss: 0.2580 - val_acc: 0.9275\n",
      "Epoch 12/20\n",
      "8000/8000 [==============================] - 0s 18us/sample - loss: 0.2368 - acc: 0.9450 - val_loss: 0.2166 - val_acc: 0.9530\n",
      "Epoch 13/20\n",
      "8000/8000 [==============================] - 0s 18us/sample - loss: 0.1947 - acc: 0.9589 - val_loss: 0.1748 - val_acc: 0.9645\n",
      "Epoch 14/20\n",
      "8000/8000 [==============================] - 0s 19us/sample - loss: 0.1515 - acc: 0.9755 - val_loss: 0.1312 - val_acc: 0.9800\n",
      "Epoch 15/20\n",
      "8000/8000 [==============================] - 0s 18us/sample - loss: 0.1114 - acc: 0.9865 - val_loss: 0.0940 - val_acc: 0.9905\n",
      "Epoch 16/20\n",
      "8000/8000 [==============================] - 0s 18us/sample - loss: 0.0807 - acc: 0.9952 - val_loss: 0.0688 - val_acc: 0.9975\n",
      "Epoch 17/20\n",
      "8000/8000 [==============================] - 0s 18us/sample - loss: 0.0608 - acc: 0.9987 - val_loss: 0.0533 - val_acc: 0.9985\n",
      "Epoch 18/20\n",
      "8000/8000 [==============================] - 0s 19us/sample - loss: 0.0483 - acc: 0.9995 - val_loss: 0.0433 - val_acc: 0.9995\n",
      "Epoch 19/20\n",
      "8000/8000 [==============================] - 0s 19us/sample - loss: 0.0397 - acc: 0.9999 - val_loss: 0.0361 - val_acc: 1.0000\n",
      "Epoch 20/20\n",
      "8000/8000 [==============================] - 0s 20us/sample - loss: 0.0335 - acc: 0.9999 - val_loss: 0.0307 - val_acc: 1.0000\n",
      "----- activations -----\n",
      "(1, 4)\n",
      "attention = [0.2425457  0.36885247 0.24522386 0.14337792]\n"
     ]
    },
    {
     "data": {
      "image/png": "[encoded data removed]",
      "text/plain": [
       "<Figure size 432x288 with 1 Axes>"
      ]
     },
     "metadata": {
      "needs_background": "light"
     },
     "output_type": "display_data"
    }
   ],
   "source": [
    "m = build_model()\n",
    "m.compile(optimizer='adam', loss='binary_crossentropy', metrics=['accuracy'])\n",
    "print(m.summary())\n",
    "\n",
    "m.fit(inputs_1, outputs, epochs=20, batch_size=128, validation_split=0.2)\n",
    "\n",
    "testing_inputs_1, testing_outputs = get_data(1, input_dim)\n",
    "\n",
    "# Attention vector corresponds to the second matrix.\n",
    "# The first one is the Inputs output.\n",
    "attention_vector = get_activations(m, testing_inputs_1,\n",
    "                                   print_shape_only=True,\n",
    "                                   layer_name='attention_vec')[0].flatten()\n",
    "print('attention =', attention_vector)\n",
    "\n",
    "# plot part.\n",
    "\n",
    "\n",
    "pd.DataFrame(attention_vector, columns=['attention (%)']).plot(kind='bar',\n",
    "                                                               title='Attention Mechanism as '\n",
    "                                                                     'a function of input'\n",
    "                                                                     ' dimensions.')\n",
    "plt.show()"
   ]
  },
  {
   "cell_type": "code",
   "execution_count": null,
   "metadata": {},
   "outputs": [],
   "source": []
  },
  {
   "cell_type": "code",
   "execution_count": null,
   "metadata": {},
   "outputs": [],
   "source": []
  }
 ],
 "metadata": {
  "kernelspec": {
   "display_name": "Python [conda env:AMC]",
   "language": "python",
   "name": "conda-env-AMC-py"
  },
  "language_info": {
   "codemirror_mode": {
    "name": "ipython",
    "version": 3
   },
   "file_extension": ".py",
   "mimetype": "text/x-python",
   "name": "python",
   "nbconvert_exporter": "python",
   "pygments_lexer": "ipython3",
   "version": "3.7.6"
  }
 },
 "nbformat": 4,
 "nbformat_minor": 4
}
